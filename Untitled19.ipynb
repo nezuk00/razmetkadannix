{
  "nbformat": 4,
  "nbformat_minor": 0,
  "metadata": {
    "colab": {
      "provenance": [],
      "toc_visible": true,
      "authorship_tag": "ABX9TyPnA0nWoJ9NPbXaBKy6PF6K",
      "include_colab_link": true
    },
    "kernelspec": {
      "name": "python3",
      "display_name": "Python 3"
    },
    "language_info": {
      "name": "python"
    }
  },
  "cells": [
    {
      "cell_type": "markdown",
      "metadata": {
        "id": "view-in-github",
        "colab_type": "text"
      },
      "source": [
        "<a href=\"https://colab.research.google.com/github/nezuk00/razmetkadannix/blob/main/Untitled19.ipynb\" target=\"_parent\"><img src=\"https://colab.research.google.com/assets/colab-badge.svg\" alt=\"Open In Colab\"/></a>"
      ]
    },
    {
      "cell_type": "code",
      "execution_count": null,
      "metadata": {
        "id": "_0WfmXRdSIBW"
      },
      "outputs": [],
      "source": []
    },
    {
      "cell_type": "code",
      "source": [
        "import requests, re, time\n",
        "from bs4 import BeautifulSoup\n",
        "from urllib.parse import urljoin\n",
        "\n",
        "BASE = \"https://ria.ru\"\n",
        "SECTION = \"https://ria.ru/world/\"\n",
        "\n",
        "HEADERS = {\n",
        "    \"User-Agent\": \"Mozilla/5.0 (Windows NT 10.0; Win64; x64) AppleWebKit/537.36 (KHTML, like Gecko) Chrome/124.0 Safari/537.36\",\n",
        "    \"Accept-Language\": \"ru-RU,ru;q=0.9\"\n",
        "}\n",
        "\n",
        "def fetch(url):\n",
        "    r = requests.get(url, headers=HEADERS, timeout=20)\n",
        "    r.raise_for_status()\n",
        "    return r.text\n",
        "\n",
        "def get_news_links_and_titles_requests(num_titles):\n",
        "    html = fetch(SECTION)\n",
        "    soup = BeautifulSoup(html, \"lxml\")\n",
        "\n",
        "    titles, links, seen = [], [], set()\n",
        "\n",
        "    def push(t, href):\n",
        "        if not t or not href: return\n",
        "        full = urljoin(BASE, href)\n",
        "        if full in seen: return\n",
        "        seen.add(full)\n",
        "        titles.append(t.strip())\n",
        "        links.append(full)\n",
        "\n",
        "    # карточки\n",
        "    for a in soup.select(\"a.list-item__title, a.cell-list__item-title\"):\n",
        "        push(a.get_text(strip=True), a.get(\"href\"))\n",
        "        if len(titles) >= num_titles:\n",
        "            break\n",
        "\n",
        "    # подстраховка по датам\n",
        "    if len(titles) < num_titles:\n",
        "        for a in soup.find_all(\"a\", href=True):\n",
        "            if re.search(r\"/20\\d{2}/\", a[\"href\"]):\n",
        "                t = a.get_text(\" \", strip=True)\n",
        "                if t and len(t) > 3:\n",
        "                    push(t, a[\"href\"])\n",
        "            if len(titles) >= num_titles:\n",
        "                break\n",
        "    return titles[:num_titles], links[:num_titles]\n",
        "\n",
        "def get_article_content_requests(url):\n",
        "    soup = BeautifulSoup(fetch(url), \"lxml\")\n",
        "    containers = [\n",
        "        \"div.article__body\",\n",
        "        \"div.article__text\",\n",
        "        \"div.m-article__body\",\n",
        "        \"div.layout-article__content\",\n",
        "    ]\n",
        "    for sel in containers:\n",
        "        cont = soup.select_one(sel)\n",
        "        if cont:\n",
        "            ps = cont.select(\"p\")\n",
        "            if ps:\n",
        "                return \"\\n\\n\".join(p.get_text(\" \", strip=True) for p in ps if p.get_text(strip=True))\n",
        "            return cont.get_text(\" \", strip=True)\n",
        "    return \"Контент статьи не найден. Верстка могла измениться.\"\n",
        "\n",
        "def main():\n",
        "    while True:\n",
        "        num = input(\"\\nСколько заголовков показать? (или 'exit'): \").strip()\n",
        "        if num.lower() == \"exit\":\n",
        "            print(\"Выход.\")\n",
        "            break\n",
        "        try:\n",
        "            n = int(num)\n",
        "        except:\n",
        "            print(\"Введите число.\")\n",
        "            continue\n",
        "\n",
        "        ts, ls = get_news_links_and_titles_requests(n)\n",
        "        if not ts:\n",
        "            print(\"Не удалось получить новости.\")\n",
        "            continue\n",
        "\n",
        "        print(\"\\n--- Новости ---\")\n",
        "        for i, t in enumerate(ts, 1):\n",
        "            print(f\"{i}. {t}\")\n",
        "\n",
        "        sel = input(f\"\\nВыберите номер 1..{len(ts)} или 'back': \").strip().lower()\n",
        "        if sel == \"back\":\n",
        "            continue\n",
        "        try:\n",
        "            idx = int(sel) - 1\n",
        "            print(f\"\\nЗагружаю: {ts[idx]}\")\n",
        "            print(\"\\n--- Содержание статьи ---\\n\")\n",
        "            print(get_article_content_requests(ls[idx]))\n",
        "        except:\n",
        "            print(\"Неверный ввод.\")\n",
        "\n",
        "if __name__ == \"__main__\":\n",
        "    main()\n"
      ],
      "metadata": {
        "id": "cVXHy91xMl7b",
        "outputId": "84255ed6-6d90-482a-b9b6-021ba93095d1",
        "colab": {
          "base_uri": "https://localhost:8080/",
          "height": 602
        }
      },
      "execution_count": 1,
      "outputs": [
        {
          "output_type": "stream",
          "name": "stdout",
          "text": [
            "\n",
            "Сколько заголовков показать? (или 'exit'): 3\n",
            "\n",
            "--- Новости ---\n",
            "1. В Госдуме заявили, что участие России в G20 стабилизирует обстановку в мире\n",
            "2. Политолог оценил роль Горбачева в объединении Германии\n",
            "3. В Сумах прогремели взрывы\n",
            "\n",
            "Выберите номер 1..3 или 'back': 2\n",
            "\n",
            "Загружаю: Политолог оценил роль Горбачева в объединении Германии\n",
            "\n",
            "--- Содержание статьи ---\n",
            "\n",
            "МОСКВА, 3 окт – РИА Новости. Роль СССР в объединении Германии - это однозначный внешнеполитический проигрыш тогдашнего руководства страны, поделился мнением с РИА Новости старший научный сотрудник Центра германских исследований Института Европы РАН Александр Камкин. Тридцать пять лет назад, 3 октября 1990 года, произошло объединение Западной и Восточной Германии, завершившее более чем 40-летний период раскола страны. Роль советского руководства, в частности единственного президента СССР Михаила Горбачева , подвергается критике в контексте этого исторического события. Единая ФРГ осталась вассалом США, заявил немецкий политик 07:24 \"Конечно, объединение Германии ускорило процесс дезинтеграции СССР, но это не его причина. Это был очевидный дипломатический проигрыш президента Горбачева, хотя на рубеже 90-91 годов уже рушился весь советский блок\", - сказал Камкин . По его мнению, другой лидер во главе советского государства смог бы отсрочить этот процесс, но без коренного изменения идеологических постулатов систему было бы трудно реанимировать. А советскому лидеру тогда показали \"красивую картинку Запада\", подчеркнул он. \"У Горбачева не хватило стратегического мышления, твердости характера, мышления государственного лидера. Да, страна хотела перемен, но поверила человеку, умевшему красиво говорить. Его поймали на лести, встречах с западными лидерами, это ему нравилось и льстило. Основной его политический просчет – он делал реальные геополитические уступки, граничащие с преступлением. В том числе и объединение Германии. Но взамен он не требовал ответных действий Запада, подкрепленных договорами, веря на словах\", - заключил Камкин. Степашин назвал объединение Германии ошибкой СССР 12 июля, 13:23\n"
          ]
        },
        {
          "output_type": "error",
          "ename": "KeyboardInterrupt",
          "evalue": "Interrupted by user",
          "traceback": [
            "\u001b[0;31m---------------------------------------------------------------------------\u001b[0m",
            "\u001b[0;31mKeyboardInterrupt\u001b[0m                         Traceback (most recent call last)",
            "\u001b[0;32m/tmp/ipython-input-1858341329.py\u001b[0m in \u001b[0;36m<cell line: 0>\u001b[0;34m()\u001b[0m\n\u001b[1;32m     97\u001b[0m \u001b[0;34m\u001b[0m\u001b[0m\n\u001b[1;32m     98\u001b[0m \u001b[0;32mif\u001b[0m \u001b[0m__name__\u001b[0m \u001b[0;34m==\u001b[0m \u001b[0;34m\"__main__\"\u001b[0m\u001b[0;34m:\u001b[0m\u001b[0;34m\u001b[0m\u001b[0;34m\u001b[0m\u001b[0m\n\u001b[0;32m---> 99\u001b[0;31m     \u001b[0mmain\u001b[0m\u001b[0;34m(\u001b[0m\u001b[0;34m)\u001b[0m\u001b[0;34m\u001b[0m\u001b[0;34m\u001b[0m\u001b[0m\n\u001b[0m",
            "\u001b[0;32m/tmp/ipython-input-1858341329.py\u001b[0m in \u001b[0;36mmain\u001b[0;34m()\u001b[0m\n\u001b[1;32m     66\u001b[0m \u001b[0;32mdef\u001b[0m \u001b[0mmain\u001b[0m\u001b[0;34m(\u001b[0m\u001b[0;34m)\u001b[0m\u001b[0;34m:\u001b[0m\u001b[0;34m\u001b[0m\u001b[0;34m\u001b[0m\u001b[0m\n\u001b[1;32m     67\u001b[0m     \u001b[0;32mwhile\u001b[0m \u001b[0;32mTrue\u001b[0m\u001b[0;34m:\u001b[0m\u001b[0;34m\u001b[0m\u001b[0;34m\u001b[0m\u001b[0m\n\u001b[0;32m---> 68\u001b[0;31m         \u001b[0mnum\u001b[0m \u001b[0;34m=\u001b[0m \u001b[0minput\u001b[0m\u001b[0;34m(\u001b[0m\u001b[0;34m\"\\nСколько заголовков показать? (или 'exit'): \"\u001b[0m\u001b[0;34m)\u001b[0m\u001b[0;34m.\u001b[0m\u001b[0mstrip\u001b[0m\u001b[0;34m(\u001b[0m\u001b[0;34m)\u001b[0m\u001b[0;34m\u001b[0m\u001b[0;34m\u001b[0m\u001b[0m\n\u001b[0m\u001b[1;32m     69\u001b[0m         \u001b[0;32mif\u001b[0m \u001b[0mnum\u001b[0m\u001b[0;34m.\u001b[0m\u001b[0mlower\u001b[0m\u001b[0;34m(\u001b[0m\u001b[0;34m)\u001b[0m \u001b[0;34m==\u001b[0m \u001b[0;34m\"exit\"\u001b[0m\u001b[0;34m:\u001b[0m\u001b[0;34m\u001b[0m\u001b[0;34m\u001b[0m\u001b[0m\n\u001b[1;32m     70\u001b[0m             \u001b[0mprint\u001b[0m\u001b[0;34m(\u001b[0m\u001b[0;34m\"Выход.\"\u001b[0m\u001b[0;34m)\u001b[0m\u001b[0;34m\u001b[0m\u001b[0;34m\u001b[0m\u001b[0m\n",
            "\u001b[0;32m/usr/local/lib/python3.12/dist-packages/ipykernel/kernelbase.py\u001b[0m in \u001b[0;36mraw_input\u001b[0;34m(self, prompt)\u001b[0m\n\u001b[1;32m   1175\u001b[0m                 \u001b[0;34m\"raw_input was called, but this frontend does not support input requests.\"\u001b[0m\u001b[0;34m\u001b[0m\u001b[0;34m\u001b[0m\u001b[0m\n\u001b[1;32m   1176\u001b[0m             )\n\u001b[0;32m-> 1177\u001b[0;31m         return self._input_request(\n\u001b[0m\u001b[1;32m   1178\u001b[0m             \u001b[0mstr\u001b[0m\u001b[0;34m(\u001b[0m\u001b[0mprompt\u001b[0m\u001b[0;34m)\u001b[0m\u001b[0;34m,\u001b[0m\u001b[0;34m\u001b[0m\u001b[0;34m\u001b[0m\u001b[0m\n\u001b[1;32m   1179\u001b[0m             \u001b[0mself\u001b[0m\u001b[0;34m.\u001b[0m\u001b[0m_parent_ident\u001b[0m\u001b[0;34m[\u001b[0m\u001b[0;34m\"shell\"\u001b[0m\u001b[0;34m]\u001b[0m\u001b[0;34m,\u001b[0m\u001b[0;34m\u001b[0m\u001b[0;34m\u001b[0m\u001b[0m\n",
            "\u001b[0;32m/usr/local/lib/python3.12/dist-packages/ipykernel/kernelbase.py\u001b[0m in \u001b[0;36m_input_request\u001b[0;34m(self, prompt, ident, parent, password)\u001b[0m\n\u001b[1;32m   1217\u001b[0m             \u001b[0;32mexcept\u001b[0m \u001b[0mKeyboardInterrupt\u001b[0m\u001b[0;34m:\u001b[0m\u001b[0;34m\u001b[0m\u001b[0;34m\u001b[0m\u001b[0m\n\u001b[1;32m   1218\u001b[0m                 \u001b[0;31m# re-raise KeyboardInterrupt, to truncate traceback\u001b[0m\u001b[0;34m\u001b[0m\u001b[0;34m\u001b[0m\u001b[0m\n\u001b[0;32m-> 1219\u001b[0;31m                 \u001b[0;32mraise\u001b[0m \u001b[0mKeyboardInterrupt\u001b[0m\u001b[0;34m(\u001b[0m\u001b[0;34m\"Interrupted by user\"\u001b[0m\u001b[0;34m)\u001b[0m \u001b[0;32mfrom\u001b[0m \u001b[0;32mNone\u001b[0m\u001b[0;34m\u001b[0m\u001b[0;34m\u001b[0m\u001b[0m\n\u001b[0m\u001b[1;32m   1220\u001b[0m             \u001b[0;32mexcept\u001b[0m \u001b[0mException\u001b[0m\u001b[0;34m:\u001b[0m\u001b[0;34m\u001b[0m\u001b[0;34m\u001b[0m\u001b[0m\n\u001b[1;32m   1221\u001b[0m                 \u001b[0mself\u001b[0m\u001b[0;34m.\u001b[0m\u001b[0mlog\u001b[0m\u001b[0;34m.\u001b[0m\u001b[0mwarning\u001b[0m\u001b[0;34m(\u001b[0m\u001b[0;34m\"Invalid Message:\"\u001b[0m\u001b[0;34m,\u001b[0m \u001b[0mexc_info\u001b[0m\u001b[0;34m=\u001b[0m\u001b[0;32mTrue\u001b[0m\u001b[0;34m)\u001b[0m\u001b[0;34m\u001b[0m\u001b[0;34m\u001b[0m\u001b[0m\n",
            "\u001b[0;31mKeyboardInterrupt\u001b[0m: Interrupted by user"
          ]
        }
      ]
    }
  ]
}